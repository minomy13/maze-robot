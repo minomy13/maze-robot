{
 "cells": [
  {
   "cell_type": "markdown",
   "id": "5b3573b3",
   "metadata": {},
   "source": [
    "# Maze Robot Code\n",
    "Testing Q-Learning Code with Gym."
   ]
  },
  {
   "cell_type": "markdown",
   "id": "ad8316c5",
   "metadata": {},
   "source": [
    "## Imports\n",
    "|Package|Usage|Link|\n",
    "|-|-|-|\n",
    "|gym|Software for testing AI without real Hardware.|https://gym.openai.com|\n",
    "|numpy|The fundamental package for scientific computing with Python|https://numpy.org|\n",
    "|random|Generates random numbers| |\n",
    "|clear_output|Cleares console output| |\n",
    "|sleep|Stops code for specific given time|"
   ]
  },
  {
   "cell_type": "code",
   "execution_count": 1,
   "id": "becafcee",
   "metadata": {},
   "outputs": [],
   "source": [
    "import gym\n",
    "import numpy as np\n",
    "import random\n",
    "from IPython.display import clear_output\n",
    "from time import sleep"
   ]
  },
  {
   "cell_type": "markdown",
   "id": "1b474da2",
   "metadata": {},
   "source": [
    "## Initializing Variables\n",
    "|Name|Usage|\n",
    "|---|---|\n",
    "|environment|Envireonment for testing the AI provided by GYM|\n",
    "|Hyperparam|Provides the parameters used by the Q-Learning formula|\n",
    "|Res|Holds the responses from the environment|\n",
    "|epoch_array|Array holding all epochs|\n",
    "|penalty_array|Array holding all penaltys|\n",
    "|q_table|See \"Q-Table Subheading|\n",
    "\n",
    "### Q-Table\n",
    "`np.zeros` = Table; `[Amount of Observations, Amount of possible options (Drop, Pick, L, R, U, D)]` = Columns and Rows of table"
   ]
  },
  {
   "cell_type": "code",
   "execution_count": 2,
   "id": "be056b7e",
   "metadata": {},
   "outputs": [],
   "source": [
    "environment = gym.make(\"Taxi-v3\").env\n",
    "\n",
    "class Hyperparam:\n",
    "    def __init__(self, alpha, gamma, epsilon):\n",
    "        self.alpha = alpha\n",
    "        self.gamma = gamma\n",
    "        self.epsilon = epsilon\n",
    "\n",
    "hyperparams = Hyperparam(0.1, 0.6, 0.1)\n",
    "\n",
    "class Res:\n",
    "    def __init__(self, action, state, reward, done, info):\n",
    "        self.action = action\n",
    "        self.state = state\n",
    "        self.reward = reward\n",
    "        self.done = done\n",
    "        self.info = info\n",
    "\n",
    "epoch_array = []\n",
    "penatlty_array = []\n",
    "\n",
    "q_table = np.zeros([environment.observation_space.n, environment.action_space.n])"
   ]
  },
  {
   "cell_type": "markdown",
   "id": "3814e616",
   "metadata": {},
   "source": [
    "## Training Algorythm"
   ]
  },
  {
   "cell_type": "code",
   "execution_count": 3,
   "id": "b85f6e6d",
   "metadata": {},
   "outputs": [
    {
     "name": "stdout",
     "output_type": "stream",
     "text": [
      "Episode: 100000\n",
      "Trained.\n",
      "CPU times: user 25.9 s, sys: 3.08 s, total: 29 s\n",
      "Wall time: 31.6 s\n"
     ]
    }
   ],
   "source": [
    "%%time\n",
    "\n",
    "for i in range(1, 100001):\n",
    "    epochs, penalties, reward = 0, 0, 0\n",
    "    result = Res(0, 0, 0, False, \"\")\n",
    "\n",
    "    result.state = environment.reset()\n",
    "\n",
    "    while not result.done:\n",
    "        if random.uniform(0, 1) < hyperparams.epsilon:\n",
    "            result.action = environment.action_space.sample()\n",
    "        else:\n",
    "            result.action = np.argmax(q_table[result.state])\n",
    "\n",
    "        next_state, result.reward, result.done, result.info = environment.step(result.action)\n",
    "\n",
    "        old_value = q_table[result.state, result.action]\n",
    "        next_max = np.max(q_table[next_state])\n",
    "\n",
    "        # Q-Learning Formula\n",
    "        new_value = (1 - hyperparams.alpha) * old_value + hyperparams.alpha * (result.reward + hyperparams.gamma * next_max)\n",
    "        q_table[result.state, result.action] = new_value\n",
    "\n",
    "        if reward == -10:\n",
    "            penalties += 1\n",
    "        \n",
    "        result.state = next_state\n",
    "        epochs += 1\n",
    "    \n",
    "    if i % 100 == 0:\n",
    "        clear_output(wait=True)\n",
    "        print(f\"Episode: {i}\")\n",
    "\n",
    "print(\"Trained.\")\n",
    "sleep(5)"
   ]
  },
  {
   "cell_type": "markdown",
   "id": "cc5b7d62",
   "metadata": {},
   "source": [
    "## Performing"
   ]
  },
  {
   "cell_type": "code",
   "execution_count": 4,
   "id": "fd4ce960",
   "metadata": {},
   "outputs": [
    {
     "name": "stdout",
     "output_type": "stream",
     "text": [
      "0 20 True {'prob': 1.0}\n",
      "Period: 13\n",
      "+---------+\n",
      "|\u001b[35m\u001b[34;1m\u001b[43mR\u001b[0m\u001b[0m\u001b[0m: | : :G|\n",
      "| : | : : |\n",
      "| : : : : |\n",
      "| | : | : |\n",
      "|Y| : |B: |\n",
      "+---------+\n",
      "  (Dropoff)\n",
      "Done.\n"
     ]
    }
   ],
   "source": [
    "class Performer:\n",
    "    def __init__(self, state, next_state, reward, info, done, period):\n",
    "        self.state = state\n",
    "        self.next_state = next_state\n",
    "        self.reward = reward\n",
    "        self.info = info\n",
    "        self.done = done\n",
    "        self.period = period\n",
    "\n",
    "performer = Performer(0, 0, 0, \"\", False, 0)\n",
    "\n",
    "performer.state = environment.reset()\n",
    "\n",
    "clear_output(wait=True)\n",
    "environment.render()\n",
    "\n",
    "while not performer.done:\n",
    "    performer.period += 1\n",
    "\n",
    "    performer.action = np.argmax(q_table[performer.state])\n",
    "    performer.next_state, performer.reward, performer.done, performer.info = environment.step(performer.action)\n",
    "\n",
    "    performer.state = performer.next_state\n",
    "\n",
    "    clear_output(wait=True)\n",
    "    print(f\"{performer.next_state} {performer.reward} {performer.done} {performer.info}\")\n",
    "    print(f\"Period: {performer.period}\")\n",
    "    environment.render()\n",
    "    sleep(.5)\n",
    "\n",
    "print(\"Done.\")\n",
    "    \n",
    "\n",
    "    "
   ]
  }
 ],
 "metadata": {
  "kernelspec": {
   "display_name": "Python 3 (ipykernel)",
   "language": "python",
   "name": "python3"
  },
  "language_info": {
   "codemirror_mode": {
    "name": "ipython",
    "version": 3
   },
   "file_extension": ".py",
   "mimetype": "text/x-python",
   "name": "python",
   "nbconvert_exporter": "python",
   "pygments_lexer": "ipython3",
   "version": "3.9.7"
  }
 },
 "nbformat": 4,
 "nbformat_minor": 5
}
