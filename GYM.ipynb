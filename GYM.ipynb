{
 "cells": [
  {
   "cell_type": "markdown",
   "id": "5b3573b3",
   "metadata": {},
   "source": [
    "# Maze Robot Code\n",
    "Testing Q-Learning Code with Gym."
   ]
  },
  {
   "cell_type": "markdown",
   "id": "ad8316c5",
   "metadata": {},
   "source": [
    "### Imports\n",
    "|Package|Usage|Link|\n",
    "|-|-|-|\n",
    "|gym|Software for testing AI without real Hardware.|https://gym.openai.com|\n",
    "|numpy|The fundamental package for scientific computing with Python|https://numpy.org|"
   ]
  },
  {
   "cell_type": "code",
   "execution_count": null,
   "id": "becafcee",
   "metadata": {},
   "outputs": [],
   "source": [
    "import gym\n",
    "import numpy as np"
   ]
  },
  {
   "cell_type": "markdown",
   "id": "1b474da2",
   "metadata": {},
   "source": [
    "### Initializing Variables"
   ]
  },
  {
   "cell_type": "code",
   "execution_count": null,
   "id": "be056b7e",
   "metadata": {},
   "outputs": [],
   "source": [
    "environment = gym.make(\"Taxi-v3\").env\n",
    "\n",
    "class hyperparam:\n",
    "    def __init__(self):\n",
    "        self.alpha = 0.1\n",
    "        self.gamma = 0.6\n",
    "        self.epsilon = 0.1\n",
    "\n",
    "class res:\n",
    "    def __init__(self, action, state, reward, done, info):\n",
    "        self.action = action\n",
    "        self.state = state\n",
    "        self.reward = reward\n",
    "        self.done = done\n",
    "        self.info = info"
   ]
  }
 ],
 "metadata": {
  "kernelspec": {
   "display_name": "Python 3 (ipykernel)",
   "language": "python",
   "name": "python3"
  },
  "language_info": {
   "codemirror_mode": {
    "name": "ipython",
    "version": 3
   },
   "file_extension": ".py",
   "mimetype": "text/x-python",
   "name": "python",
   "nbconvert_exporter": "python",
   "pygments_lexer": "ipython3",
   "version": "3.9.7"
  }
 },
 "nbformat": 4,
 "nbformat_minor": 5
}
