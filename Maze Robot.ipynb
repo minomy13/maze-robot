{
 "cells": [
  {
   "cell_type": "markdown",
   "id": "5b3573b3",
   "metadata": {},
   "source": [
    "# Maze Robot Code\n",
    "Testing Q-Learning Code with Gym."
   ]
  },
  {
   "cell_type": "code",
   "execution_count": null,
   "id": "becafcee",
   "metadata": {},
   "outputs": [],
   "source": [
    "import gym"
   ]
  },
  {
   "cell_type": "markdown",
   "id": "ad8316c5",
   "metadata": {},
   "source": [
    "### Imports\n",
    "|Package|Usage|Link|\n",
    "|-|-|-|\n",
    "|gym|Software for testing AI without real Hardware.|https://gym.openai.com|"
   ]
  },
  {
   "cell_type": "code",
   "execution_count": null,
   "id": "be056b7e",
   "metadata": {},
   "outputs": [],
   "source": [
    "environment = gym.make(\"Taxi-v3\").env\n",
    "\n",
    "environment.render()"
   ]
  }
 ],
 "metadata": {
  "kernelspec": {
   "display_name": "Python 3 (ipykernel)",
   "language": "python",
   "name": "python3"
  },
  "language_info": {
   "codemirror_mode": {
    "name": "ipython",
    "version": 3
   },
   "file_extension": ".py",
   "mimetype": "text/x-python",
   "name": "python",
   "nbconvert_exporter": "python",
   "pygments_lexer": "ipython3",
   "version": "3.9.7"
  }
 },
 "nbformat": 4,
 "nbformat_minor": 5
}
